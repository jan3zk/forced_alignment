{
 "cells": [
  {
   "cell_type": "markdown",
   "metadata": {},
   "source": [
    "# Practical Application of Forced Alignment in Audio Anonymization"
   ]
  },
  {
   "cell_type": "markdown",
   "metadata": {},
   "source": [
    "## Forced alignment of an anonymised transcription with an audio recording"
   ]
  },
  {
   "cell_type": "code",
   "execution_count": 4,
   "metadata": {},
   "outputs": [
    {
     "name": "stdout",
     "output_type": "stream",
     "text": [
      "\n",
      "Files (1):\n",
      "wav_file=\"./data/anon_example/GosVL53_sirok.wav\"\n",
      "xml_file=\"./data/anon_example/anon/in/GosVL53_sirok.xml\"\n",
      "textgrid_file=\"./data/anon_example/anon/out//TextGrid/GosVL53_sirok.TextGrid\"\n",
      "textgrid_file_out=\"./data/anon_example/anon/out//TextGrid_final/GosVL53_sirok.TextGrid\"\n",
      "\n",
      "Performing temporal fragmentation ...\n",
      "\n",
      "Performing MFA forced alignmet ...\n",
      "\u001b[2;36m \u001b[0m\u001b[32mINFO    \u001b[0m Setting up corpus information\u001b[33m...\u001b[0m                                      \n",
      "\u001b[2;36m \u001b[0m\u001b[32mINFO    \u001b[0m Loading corpus from source files\u001b[33m...\u001b[0m                                   \n",
      "\u001b[2K\u001b[35m   0%\u001b[0m \u001b[90m━━━━━━━━━━━━━━━━━━━━━━━━━━━━━━━━━━━━\u001b[0m \u001b[32m0/100 \u001b[0m [ \u001b[33m0:00:02\u001b[0m < \u001b[36m-:--:--\u001b[0m , \u001b[31m? it/s\u001b[0m ]\n",
      "\u001b[?25h\u001b[2;36m \u001b[0m\u001b[32mINFO    \u001b[0m Found \u001b[1;36m1\u001b[0m speaker across \u001b[1;36m104\u001b[0m files, average number of utterances per    \n",
      "\u001b[2;36m \u001b[0m         speaker: \u001b[1;36m104.0\u001b[0m                                                        \n",
      "\u001b[2;36m \u001b[0m\u001b[32mINFO    \u001b[0m Initializing multiprocessing jobs\u001b[33m...\u001b[0m                                  \n",
      "\u001b[2;36m \u001b[0m\u001b[32mINFO    \u001b[0m Normalizing text\u001b[33m...\u001b[0m                                                   \n",
      "\u001b[2K\u001b[35m   0%\u001b[0m \u001b[90m━━━━━━━━━━━━━━━━━━━━━━━━━━━━━━━━━━━━\u001b[0m \u001b[32m0/104 \u001b[0m [ \u001b[33m0:00:01\u001b[0m < \u001b[36m-:--:--\u001b[0m , \u001b[31m? it/s\u001b[0m ]\n",
      "\u001b[?25h\u001b[2;36m \u001b[0m\u001b[32mINFO    \u001b[0m Generating pronunciations\u001b[33m...\u001b[0m                                          \n",
      "\u001b[2K\u001b[35m  42%\u001b[0m \u001b[91m━━━━━━━━━━━━━━\u001b[0m\u001b[90m╺\u001b[0m\u001b[90m━━━━━━━━━━━━━━━━━━━\u001b[0m \u001b[32m89/211 \u001b[0m [ \u001b[33m0:00:02\u001b[0m < \u001b[36m0:00:03\u001b[0m , \u001b[31m53 it/s\u001b[0m ]\n",
      "\u001b[?25h\u001b[2;36m \u001b[0m\u001b[32mINFO    \u001b[0m Generating MFCCs\u001b[33m...\u001b[0m                                                   \n",
      "\u001b[2K\u001b[35m  94%\u001b[0m \u001b[91m━━━━━━━━━━━━━━━━━━━━━━━━━━━━━━━━\u001b[0m\u001b[90m╺\u001b[0m\u001b[90m━\u001b[0m \u001b[32m98/104 \u001b[0m [ \u001b[33m0:00:02\u001b[0m < \u001b[36m0:00:01\u001b[0m , \u001b[31m76 it/s\u001b[0m ]\n",
      "\u001b[?25h\u001b[2;36m \u001b[0m\u001b[32mINFO    \u001b[0m Calculating CMVN\u001b[33m...\u001b[0m                                                   \n",
      "\u001b[2;36m \u001b[0m\u001b[32mINFO    \u001b[0m Generating final features\u001b[33m...\u001b[0m                                          \n",
      "\u001b[2K\u001b[35m   0%\u001b[0m \u001b[90m━━━━━━━━━━━━━━━━━━━━━━━━━━━━━━━━━━━━\u001b[0m \u001b[32m0/104 \u001b[0m [ \u001b[33m0:00:01\u001b[0m < \u001b[36m-:--:--\u001b[0m , \u001b[31m? it/s\u001b[0m ]\n",
      "\u001b[?25h\u001b[2;36m \u001b[0m\u001b[32mINFO    \u001b[0m Creating corpus split\u001b[33m...\u001b[0m                                              \n",
      "\u001b[2K\u001b[35m   0%\u001b[0m \u001b[90m━━━━━━━━━━━━━━━━━━━━━━━━━━━━━━━━━━━━\u001b[0m \u001b[32m0/104 \u001b[0m [ \u001b[33m0:00:01\u001b[0m < \u001b[36m-:--:--\u001b[0m , \u001b[31m? it/s\u001b[0m ]\n",
      "\u001b[?25h\u001b[2;36m \u001b[0m\u001b[32mINFO    \u001b[0m Compiling training graphs\u001b[33m...\u001b[0m                                          \n",
      "\u001b[2;36m \u001b[0m\u001b[32mINFO    \u001b[0m Performing first-pass alignment\u001b[33m...\u001b[0m                                    \n",
      "\u001b[2;36m \u001b[0m\u001b[32mINFO    \u001b[0m Generating alignments\u001b[33m...\u001b[0m                                              \n",
      "\u001b[2K\u001b[35m 100%\u001b[0m \u001b[90m━━━━━━━━━━━━━━━━━━━━━━━━━━━━━━━━━━\u001b[0m \u001b[32m104/104 \u001b[0m [ \u001b[33m0:00:40\u001b[0m < \u001b[36m0:00:00\u001b[0m , \u001b[31m3 it/s\u001b[0m ]t/s\u001b[0m ]t/s\u001b[0m ]\n",
      "\u001b[?25h\u001b[2;36m \u001b[0m\u001b[33mWARNING \u001b[0m Alignment analysis not available without using postgresql             \n",
      "\u001b[2;36m \u001b[0m\u001b[32mINFO    \u001b[0m Exporting alignment TextGrids to                                      \n",
      "\u001b[2;36m \u001b[0m         data/anon_example/anon/out/mfa_output\u001b[33m...\u001b[0m                              \n",
      "\u001b[2;36m \u001b[0m\u001b[32mINFO    \u001b[0m Collecting phone and word alignments from alignment lattices\u001b[33m...\u001b[0m       \n",
      "\u001b[2K\u001b[35m 100%\u001b[0m \u001b[90m━━━━━━━━━━━━━━━━━━━━━━━━━━━━━━━━━\u001b[0m \u001b[32m104/104 \u001b[0m [ \u001b[33m0:00:16\u001b[0m < \u001b[36m0:00:00\u001b[0m , \u001b[31m30 it/s\u001b[0m ]\u001b[31m47 it/s\u001b[0m ]\n",
      "\u001b[2K\u001b[35m   1%\u001b[0m \u001b[90m━━━━━━━━━━━━━━━━━━━━━━━━━━━━━━━━━━━━\u001b[0m \u001b[32m1/104 \u001b[0m [ \u001b[33m0:00:02\u001b[0m < \u001b[36m-:--:--\u001b[0m , \u001b[31m? it/s\u001b[0m ]\n",
      "\u001b[?25h\u001b[2;36m \u001b[0m\u001b[32mINFO    \u001b[0m Finished exporting TextGrids to data/anon_example/anon/out/mfa_output!\n",
      "\u001b[2;36m \u001b[0m\u001b[32mINFO    \u001b[0m Done! Everything took \u001b[1;36m257.700\u001b[0m seconds                                 \n",
      "\n",
      "Combining partial TextGrids ...\n",
      "\n",
      "Adding new tiers ...\n"
     ]
    }
   ],
   "source": [
    "!./align.sh ./data/anon_demo/ ./data/anon_demo/anon/out/ ./data/OPTILEX_v3.txt ./data/anon_demo/anon/in 30\n"
   ]
  },
  {
   "cell_type": "markdown",
   "metadata": {},
   "source": [
    "## Forced alignment of a non-anonymised transcription with an audio recording"
   ]
  },
  {
   "cell_type": "code",
   "execution_count": 5,
   "metadata": {},
   "outputs": [
    {
     "name": "stdout",
     "output_type": "stream",
     "text": [
      "\n",
      "Files (1):\n",
      "wav_file=\"./data/anon_example/GosVL53_sirok.wav\"\n",
      "xml_file=\"./data/anon_example/nonanon/in/GosVL53_sirok.xml\"\n",
      "textgrid_file=\"./data/anon_example/nonanon/out//TextGrid/GosVL53_sirok.TextGrid\"\n",
      "textgrid_file_out=\"./data/anon_example/nonanon/out//TextGrid_final/GosVL53_sirok.TextGrid\"\n",
      "\n",
      "Performing temporal fragmentation ...\n",
      "\n",
      "Performing MFA forced alignmet ...\n",
      "\u001b[2;36m \u001b[0m\u001b[32mINFO    \u001b[0m Setting up corpus information\u001b[33m...\u001b[0m                                      \n",
      "\u001b[2;36m \u001b[0m\u001b[32mINFO    \u001b[0m Loading corpus from source files\u001b[33m...\u001b[0m                                   \n",
      "\u001b[2K\u001b[35m   0%\u001b[0m \u001b[90m━━━━━━━━━━━━━━━━━━━━━━━━━━━━━━━━━━━━\u001b[0m \u001b[32m0/100 \u001b[0m [ \u001b[33m0:00:01\u001b[0m < \u001b[36m-:--:--\u001b[0m , \u001b[31m? it/s\u001b[0m ]\n",
      "\u001b[?25h\u001b[2;36m \u001b[0m\u001b[32mINFO    \u001b[0m Found \u001b[1;36m1\u001b[0m speaker across \u001b[1;36m104\u001b[0m files, average number of utterances per    \n",
      "\u001b[2;36m \u001b[0m         speaker: \u001b[1;36m104.0\u001b[0m                                                        \n",
      "\u001b[2;36m \u001b[0m\u001b[32mINFO    \u001b[0m Initializing multiprocessing jobs\u001b[33m...\u001b[0m                                  \n",
      "\u001b[2;36m \u001b[0m\u001b[32mINFO    \u001b[0m Normalizing text\u001b[33m...\u001b[0m                                                   \n",
      "\u001b[2K\u001b[35m   0%\u001b[0m \u001b[90m━━━━━━━━━━━━━━━━━━━━━━━━━━━━━━━━━━━━\u001b[0m \u001b[32m0/104 \u001b[0m [ \u001b[33m0:00:01\u001b[0m < \u001b[36m-:--:--\u001b[0m , \u001b[31m? it/s\u001b[0m ]\n",
      "\u001b[?25h\u001b[2;36m \u001b[0m\u001b[32mINFO    \u001b[0m Generating pronunciations\u001b[33m...\u001b[0m                                          \n",
      "\u001b[2K\u001b[35m  40%\u001b[0m \u001b[91m━━━━━━━━━━━━━\u001b[0m\u001b[91m╸\u001b[0m\u001b[90m━━━━━━━━━━━━━━━━━━━━\u001b[0m \u001b[32m89/221 \u001b[0m [ \u001b[33m0:00:02\u001b[0m < \u001b[36m0:00:03\u001b[0m , \u001b[31m53 it/s\u001b[0m ]\n",
      "\u001b[?25h\u001b[2;36m \u001b[0m\u001b[32mINFO    \u001b[0m Generating MFCCs\u001b[33m...\u001b[0m                                                   \n",
      "\u001b[2K\u001b[35m  96%\u001b[0m \u001b[91m━━━━━━━━━━━━━━━━━━━━━━━━━━━━━━━\u001b[0m\u001b[91m╸\u001b[0m\u001b[90m━\u001b[0m \u001b[32m100/104 \u001b[0m [ \u001b[33m0:00:02\u001b[0m < \u001b[36m0:00:01\u001b[0m , \u001b[31m78 it/s\u001b[0m ]\n",
      "\u001b[?25h\u001b[2;36m \u001b[0m\u001b[32mINFO    \u001b[0m Calculating CMVN\u001b[33m...\u001b[0m                                                   \n",
      "\u001b[2;36m \u001b[0m\u001b[32mINFO    \u001b[0m Generating final features\u001b[33m...\u001b[0m                                          \n",
      "\u001b[2K\u001b[35m   0%\u001b[0m \u001b[90m━━━━━━━━━━━━━━━━━━━━━━━━━━━━━━━━━━━━\u001b[0m \u001b[32m0/104 \u001b[0m [ \u001b[33m0:00:01\u001b[0m < \u001b[36m-:--:--\u001b[0m , \u001b[31m? it/s\u001b[0m ]\n",
      "\u001b[?25h\u001b[2;36m \u001b[0m\u001b[32mINFO    \u001b[0m Creating corpus split\u001b[33m...\u001b[0m                                              \n",
      "\u001b[2K\u001b[35m   0%\u001b[0m \u001b[90m━━━━━━━━━━━━━━━━━━━━━━━━━━━━━━━━━━━━\u001b[0m \u001b[32m0/104 \u001b[0m [ \u001b[33m0:00:01\u001b[0m < \u001b[36m-:--:--\u001b[0m , \u001b[31m? it/s\u001b[0m ]\n",
      "\u001b[?25h\u001b[2;36m \u001b[0m\u001b[32mINFO    \u001b[0m Compiling training graphs\u001b[33m...\u001b[0m                                          \n",
      "\u001b[2;36m \u001b[0m\u001b[32mINFO    \u001b[0m Performing first-pass alignment\u001b[33m...\u001b[0m                                    \n",
      "\u001b[2;36m \u001b[0m\u001b[32mINFO    \u001b[0m Generating alignments\u001b[33m...\u001b[0m                                              \n",
      "\u001b[2K\u001b[35m 100%\u001b[0m \u001b[90m━━━━━━━━━━━━━━━━━━━━━━━━━━━━━━━━━━\u001b[0m \u001b[32m104/104 \u001b[0m [ \u001b[33m0:00:40\u001b[0m < \u001b[36m0:00:00\u001b[0m , \u001b[31m3 it/s\u001b[0m ]t/s\u001b[0m ]t/s\u001b[0m ]\n",
      "\u001b[?25h\u001b[2;36m \u001b[0m\u001b[33mWARNING \u001b[0m Alignment analysis not available without using postgresql             \n",
      "\u001b[2;36m \u001b[0m\u001b[32mINFO    \u001b[0m Exporting alignment TextGrids to                                      \n",
      "\u001b[2;36m \u001b[0m         data/anon_example/nonanon/out/mfa_output\u001b[33m...\u001b[0m                           \n",
      "\u001b[2;36m \u001b[0m\u001b[32mINFO    \u001b[0m Collecting phone and word alignments from alignment lattices\u001b[33m...\u001b[0m       \n",
      "\u001b[2K\u001b[35m  98%\u001b[0m \u001b[91m━━━━━━━━━━━━━━━━━━━━━━━━━━━━━━━━\u001b[0m\u001b[90m╺\u001b[0m \u001b[32m102/104 \u001b[0m [ \u001b[33m0:00:17\u001b[0m < \u001b[36m0:00:01\u001b[0m , \u001b[31m14 it/s\u001b[0m ]t/s\u001b[0m ]\n",
      "\u001b[2K\u001b[35m   1%\u001b[0m \u001b[90m━━━━━━━━━━━━━━━━━━━━━━━━━━━━━━━━━━━━\u001b[0m \u001b[32m1/104 \u001b[0m [ \u001b[33m0:00:02\u001b[0m < \u001b[36m-:--:--\u001b[0m , \u001b[31m? it/s\u001b[0m ]\n",
      "\u001b[?25h\u001b[2;36m \u001b[0m\u001b[32mINFO    \u001b[0m Finished exporting TextGrids to                                       \n",
      "\u001b[2;36m \u001b[0m         data/anon_example/nonanon/out/mfa_output!                             \n",
      "\u001b[2;36m \u001b[0m\u001b[32mINFO    \u001b[0m Done! Everything took \u001b[1;36m256.728\u001b[0m seconds                                 \n",
      "\n",
      "Combining partial TextGrids ...\n",
      "\n",
      "Adding new tiers ...\n"
     ]
    }
   ],
   "source": [
    "!./align.sh ./data/anon_demo/ ./data/anon_demo/nonanon/out/ ./data/OPTILEX_v3.txt ./data/anon_demo/nonanon/in 30"
   ]
  },
  {
   "cell_type": "markdown",
   "metadata": {},
   "source": [
    "## Anonymisation of the audio recording with an anonymised transcription (assuming the anonymised words are in square brackets)"
   ]
  },
  {
   "cell_type": "code",
   "execution_count": 9,
   "metadata": {},
   "outputs": [
    {
     "name": "stdout",
     "output_type": "stream",
     "text": [
      "Anonymizing part from 102.414s to 102.844s: [ime]\n",
      "Anonymizing part from 102.844s to 103.584s: [priimek]\n",
      "Anonymizing part from 109.414s to 110.014s: [ime]\n",
      "Anonymizing part from 120.164s to 120.484s: [ime]\n",
      "Anonymizing part from 145.378s to 145.698s: [ime]\n",
      "Anonymizing part from 249.063s to 249.703s: [priimek]\n",
      "Anonymizing part from 249.703s to 250.123s: [ime]\n",
      "Anonymizing part from 270.03s to 270.58s: [ime]\n",
      "Anonymizing part from 270.58s to 270.83s: [ime]\n",
      "Anonymizing part from 270.83s to 271.31s: [priimek]\n",
      "Anonymizing part from 506.716s to 506.856s: [ime]\n",
      "Anonymizing part from 506.856s to 507.276s: [priimek]\n",
      "Anonymizing part from 1115.463s to 1116.073s: [priimek]\n",
      "Anonymizing part from 1431.691s to 1432.591s: [ime]\n",
      "Anonymizing part from 1432.591s to 1432.811s: [priimek]\n",
      "Anonymizing part from 1444.254s to 1445.064s: [priimek]\n",
      "Anonymizing part from 1521.946s to 1522.436s: [ime]\n",
      "Anonymizing part from 1522.436s to 1522.606s: [ime]\n",
      "Anonymizing part from 1548.53s to 1548.6s: [ime]\n",
      "Anonymizing part from 1920.314s to 1920.764s: [ime]\n",
      "Anonymizing part from 1920.764s to 1921.444s: [priimek]\n",
      "Anonymizing part from 1922.664s to 1923.064s: [ime]\n",
      "Anonymizing part from 1989.952s to 1990.652s: [ime]\n",
      "Anonymizing part from 1991.102s to 1991.362s: [priimek]\n",
      "Anonymizing part from 2609.966s to 2610.406s: [priimek]\n",
      "Anonymized audio saved to: ./data/anon_demo/anon/out/GosVL53_sirok-anonymized1.wav\n"
     ]
    }
   ],
   "source": [
    "from anonymize_audio import anonymize_audio\n",
    "intervals = anonymize_audio('./data/anon_demo/GosVL53_sirok.wav', './data/anon_demo/anon/out/TextGrid_final/GosVL53_sirok.TextGrid', './data/anon_demo/anon/out/GosVL53_sirok-anonymized1.wav', ['[ime]', '[priimek]'])"
   ]
  },
  {
   "cell_type": "markdown",
   "metadata": {},
   "source": [
    "## Anonymization of the sound recording in the case of a non-anonymised transcription (with a list of words to be anonymised)"
   ]
  },
  {
   "cell_type": "code",
   "execution_count": 10,
   "metadata": {},
   "outputs": [
    {
     "name": "stdout",
     "output_type": "stream",
     "text": [
      "Anonymizing part from 102.444s to 102.914s: Branetu\n",
      "Anonymizing part from 102.914s to 103.514s: Široku\n",
      "Anonymizing part from 109.434s to 110.004s: Branetom\n",
      "Anonymizing part from 120.164s to 120.474s: Brane\n",
      "Anonymizing part from 145.378s to 145.708s: Brane\n",
      "Anonymizing part from 249.083s to 249.473s: Grosa\n",
      "Anonymizing part from 249.473s to 250.123s: Jelkota\n",
      "Anonymizing part from 270.02s to 270.38s: Jelko\n",
      "Anonymizing part from 270.38s to 270.83s: Gabrijel\n",
      "Anonymizing part from 270.83s to 271.31s: Gros\n",
      "Anonymizing part from 506.716s to 506.996s: Jelko\n",
      "Anonymizing part from 506.996s to 507.246s: Gros\n",
      "Anonymizing part from 1115.413s to 1116.063s: Kopaču\n",
      "Anonymizing part from 1431.791s to 1432.201s: Mateja\n",
      "Anonymizing part from 1432.201s to 1432.791s: Milavca\n",
      "Anonymizing part from 1444.264s to 1445.054s: Kopačevega\n",
      "Anonymizing part from 1522.046s to 1522.206s: Brane\n",
      "Anonymizing part from 1522.206s to 1522.626s: Brane\n",
      "Anonymizing part from 1548.38s to 1548.57s: Brane\n",
      "Anonymizing part from 1920.494s to 1920.954s: Jelko\n",
      "Anonymizing part from 1920.954s to 1921.404s: Gros\n",
      "Anonymizing part from 1922.654s to 1923.074s: Brane\n",
      "Anonymizing part from 1989.952s to 1990.252s: Jelko\n",
      "Anonymizing part from 1990.252s to 1990.642s: Gros\n",
      "Anonymizing part from 2609.986s to 2610.406s: Široku\n",
      "Anonymized audio saved to: ./data/anon_demo/nonanon/out/GosVL53_sirok-anonymized2.wav\n"
     ]
    }
   ],
   "source": [
    "intervals_nonanon = anonymize_audio('./data/anon_demo/nonanon/in/GosVL53_sirok.wav', './data/anon_demo/nonanon/out/TextGrid_final/GosVL53_sirok.TextGrid', './data/anon_demo/nonanon/out/GosVL53_sirok-anonymized2.wav', ['Brane*', 'Širok*', 'Jelk*', 'Gros', 'Grosa', 'Gabri*', 'Kopač*', 'Matej*', 'Milav*'])"
   ]
  },
  {
   "cell_type": "markdown",
   "metadata": {},
   "source": [
    "## Comparison of computed time intervals"
   ]
  },
  {
   "cell_type": "code",
   "execution_count": 11,
   "metadata": {},
   "outputs": [
    {
     "name": "stdout",
     "output_type": "stream",
     "text": [
      "Average difference in computed temporal boundaries: 0.12s\n"
     ]
    }
   ],
   "source": [
    "if len(intervals) != len(intervals_nonanon):\n",
    "    raise ValueError(\"Both lists must have the same length.\")\n",
    "\n",
    "total_diff = 0\n",
    "count = 0\n",
    "    \n",
    "for tuple1, tuple2 in zip(intervals, intervals_nonanon):\n",
    "    diff1 = abs(tuple1[0] - tuple2[0])\n",
    "    diff2 = abs(tuple1[1] - tuple2[1])\n",
    "    total_diff += diff1 + diff2\n",
    "    count += 2  # since we are adding two differences each iteration\n",
    "print('Average difference in computed temporal boundaries: %.2fs'%(total_diff/count))"
   ]
  },
  {
   "cell_type": "markdown",
   "metadata": {},
   "source": [
    "## Automatic Identification of Anonymized Words Using the spaCy Library**"
   ]
  },
  {
   "cell_type": "code",
   "execution_count": 12,
   "metadata": {},
   "outputs": [
    {
     "name": "stdout",
     "output_type": "stream",
     "text": [
      "Identified keywords containing personal information: ['Domna', 'Peltonova', 'Branetu', 'Peterkom', 'Krajnc', 'Jelko', 'Prevce', 'Rober', 'Akrapoviču', 'Krajnca', 'jaz', 'Široku', 'Benjaminčkom', 'Andrej', 'Prevcem', 'Prevc', 'Petra', 'Domnom', 'Branetom', 'Kaplanova', 'Grosa', 'Kopaču', 'Primožem', 'Brane', 'Mateja', 'Prevca', 'Robert', 'Milavca', 'Peter', 'Gabrijel', 'Gros', 'Avstrijci', 'Kranjec', 'Petrom', 'Roberta', 'Jelkota']\n",
      "Anonymizing part from 34.548s to 34.688s: jaz\n",
      "Anonymizing part from 102.444s to 102.914s: Branetu\n",
      "Anonymizing part from 102.914s to 103.514s: Široku\n",
      "Anonymizing part from 105.684s to 105.894s: jaz\n",
      "Anonymizing part from 109.434s to 110.004s: Branetom\n",
      "Anonymizing part from 114.814s to 114.924s: jaz\n",
      "Anonymizing part from 116.274s to 116.504s: jaz\n",
      "Anonymizing part from 120.164s to 120.474s: Brane\n",
      "Anonymizing part from 136.038s to 136.158s: jaz\n",
      "Anonymizing part from 145.378s to 145.708s: Brane\n",
      "Anonymizing part from 149.428s to 149.748s: Andrej\n",
      "Anonymizing part from 168.329s to 168.419s: jaz\n",
      "Anonymizing part from 205.826s to 205.956s: jaz\n",
      "Anonymizing part from 249.083s to 249.473s: Grosa\n",
      "Anonymizing part from 249.473s to 250.123s: Jelkota\n",
      "Anonymizing part from 270.02s to 270.38s: Jelko\n",
      "Anonymizing part from 270.38s to 270.83s: Gabrijel\n",
      "Anonymizing part from 270.83s to 271.31s: Gros\n",
      "Anonymizing part from 287.988s to 288.328s: Primožem\n",
      "Anonymizing part from 288.328s to 288.878s: Peterkom\n",
      "Anonymizing part from 466.159s to 466.269s: jaz\n",
      "Anonymizing part from 506.716s to 506.996s: Jelko\n",
      "Anonymizing part from 506.996s to 507.246s: Gros\n",
      "Anonymizing part from 586.506s to 586.666s: jaz\n",
      "Anonymizing part from 758.92s to 759.09s: jaz\n",
      "Anonymizing part from 802.739s to 803.539s: Peltonova\n",
      "Anonymizing part from 803.859s to 804.409s: Kaplanova\n",
      "Anonymizing part from 1115.413s to 1116.063s: Kopaču\n",
      "Anonymizing part from 1145.803s to 1145.913s: jaz\n",
      "Anonymizing part from 1240.276s to 1240.416s: jaz\n",
      "Anonymizing part from 1244.576s to 1244.826s: Andrej\n",
      "Anonymizing part from 1256.655s to 1257.025s: Andrej\n",
      "Anonymizing part from 1431.791s to 1432.201s: Mateja\n",
      "Anonymizing part from 1432.201s to 1432.791s: Milavca\n",
      "Anonymizing part from 1503.917s to 1504.037s: jaz\n",
      "Anonymizing part from 1522.046s to 1522.206s: Brane\n",
      "Anonymizing part from 1522.206s to 1522.626s: Brane\n",
      "Anonymizing part from 1546.69s to 1546.86s: jaz\n",
      "Anonymizing part from 1548.38s to 1548.57s: Brane\n",
      "Anonymizing part from 1618.166s to 1618.296s: jaz\n",
      "Anonymizing part from 1651.809s to 1652.159s: Petrom\n",
      "Anonymizing part from 1652.159s to 1652.569s: Prevcem\n",
      "Anonymizing part from 1658.909s to 1659.249s: Peter\n",
      "Anonymizing part from 1659.249s to 1659.629s: Prevc\n",
      "Anonymizing part from 1665.668s to 1665.938s: Rober\n",
      "Anonymizing part from 1665.938s to 1666.378s: Krajnc\n",
      "Anonymizing part from 1670.788s to 1671.458s: Akrapoviču\n",
      "Anonymizing part from 1920.494s to 1920.954s: Jelko\n",
      "Anonymizing part from 1920.954s to 1921.404s: Gros\n",
      "Anonymizing part from 1922.654s to 1923.074s: Brane\n",
      "Anonymizing part from 1987.542s to 1987.692s: jaz\n",
      "Anonymizing part from 1989.952s to 1990.252s: Jelko\n",
      "Anonymizing part from 1990.252s to 1990.642s: Gros\n",
      "Anonymizing part from 2021.902s to 2022.052s: jaz\n",
      "Anonymizing part from 2023.652s to 2024.002s: Domnom\n",
      "Anonymizing part from 2024.042s to 2024.482s: Prevcem\n",
      "Anonymizing part from 2027.932s to 2028.792s: Benjaminčkom\n",
      "Anonymizing part from 2077.172s to 2077.492s: Domna\n",
      "Anonymizing part from 2077.492s to 2077.942s: Prevca\n",
      "Anonymizing part from 2100.076s to 2100.376s: Andrej\n",
      "Anonymizing part from 2126.823s to 2126.973s: jaz\n",
      "Anonymizing part from 2235.577s to 2236.037s: Avstrijci\n",
      "Anonymizing part from 2271.401s to 2271.731s: Peter\n",
      "Anonymizing part from 2271.731s to 2272.091s: Prevc\n",
      "Anonymizing part from 2274.081s to 2274.411s: Robert\n",
      "Anonymizing part from 2274.411s to 2274.891s: Kranjec\n",
      "Anonymizing part from 2293.501s to 2293.761s: Andrej\n",
      "Anonymizing part from 2293.761s to 2293.901s: jaz\n",
      "Anonymizing part from 2301.723s to 2301.993s: jaz\n",
      "Anonymizing part from 2315.997s to 2316.107s: jaz\n",
      "Anonymizing part from 2424.158s to 2424.248s: jaz\n",
      "Anonymizing part from 2424.988s to 2425.078s: jaz\n",
      "Anonymizing part from 2433.128s to 2433.288s: jaz\n",
      "Anonymizing part from 2473.145s to 2473.275s: jaz\n",
      "Anonymizing part from 2473.795s to 2474.155s: Andrej\n",
      "Anonymizing part from 2485.615s to 2485.745s: jaz\n",
      "Anonymizing part from 2534.488s to 2534.878s: Prevc\n",
      "Anonymizing part from 2538.418s to 2538.698s: Prevce\n",
      "Anonymizing part from 2539.419s to 2539.769s: Petra\n",
      "Anonymizing part from 2539.769s to 2540.179s: Prevca\n",
      "Anonymizing part from 2540.259s to 2540.669s: Roberta\n",
      "Anonymizing part from 2540.669s to 2541.089s: Krajnca\n",
      "Anonymizing part from 2609.986s to 2610.406s: Široku\n",
      "Anonymized audio saved to: ./data/anon_demo/nonanon/out/GosVL53_sirok-anonymized3.wav\n"
     ]
    }
   ],
   "source": [
    "\n",
    "intervals_spacy = anonymize_audio('./data/anon_demo/GosVL53_sirok.wav', './data/anon_demo/nonanon/out/TextGrid_final/GosVL53_sirok.TextGrid', './data/anon_demo/nonanon/out/GosVL53_sirok-anonymized3.wav')"
   ]
  }
 ],
 "metadata": {
  "kernelspec": {
   "display_name": "aligner",
   "language": "python",
   "name": "python3"
  },
  "language_info": {
   "codemirror_mode": {
    "name": "ipython",
    "version": 3
   },
   "file_extension": ".py",
   "mimetype": "text/x-python",
   "name": "python",
   "nbconvert_exporter": "python",
   "pygments_lexer": "ipython3",
   "version": "3.11.9"
  }
 },
 "nbformat": 4,
 "nbformat_minor": 2
}
